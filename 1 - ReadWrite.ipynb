{
 "metadata": {
  "name": "1 - ReadWrite",
  "zanadu": {
   "authors": [
    "Tarek Bouz",
    "tb400"
   ],
   "bibliography": [
    {
     "id": "A75206DE-ECB1-424B-A3B1-AE82C4A34CFB",
     "name": "OptimalTransport"
    }
   ],
   "bibliography_data": {
    "BrenierMartingale": {
     "author": "P. Henry-Labordere, N. Touzi",
     "id": "BrenierMartingale",
     "journal": "SSRN",
     "link": "http://papers.ssrn.com/sol3/papers.cfm?abstract_id=2218488",
     "pages": "",
     "title": "An explicit martingale version of Brenier's theorem",
     "volume": "",
     "year": "2013"
    }
   },
   "category": "1",
   "clearance": "Private",
   "group_name": "ZANADU TEAM",
   "md5": "2aab23bf806c90f2acb3a5890277e402",
   "notebook_id": "990BE26B-ABEB-4996-B300-0CBF75E31762",
   "python_name": null,
   "reviewer_id": null,
   "status": "WIP"
  }
 },
 "nbformat": 3,
 "nbformat_minor": 0,
 "worksheets": [
  {
   "cells": [
    {
     "cell_type": "markdown",
     "metadata": {
      "zanadu": {}
     },
     "source": "\\cite{BrenierMartingale}"
    },
    {
     "cell_type": "code",
     "collapsed": false,
     "input": "import os\nimport socket     \nimport getpass   \nuser_login = getpass.getuser() \nuser_dir = os.getcwd() \nprint \"User :\", user_login\nprint \"Working directory :\", user_dir\nprint \"Host :\", socket.gethostname()",
     "language": "python",
     "metadata": {
      "zanadu": {
       "id": "2EF1CA948E22459982B63AC67DD4371F"
      }
     },
     "outputs": [
      {
       "output_type": "stream",
       "stream": "stdout",
       "text": "User : tbouz\nWorking directory : /groups1/ZANADU TEAM/tbouz/me/Root\nHost : zanadu-vm-bs-1\n"
      }
     ],
     "prompt_number": 3
    },
    {
     "cell_type": "code",
     "collapsed": false,
     "input": "",
     "language": "python",
     "metadata": {
      "zanadu": {
       "code_type": ""
      }
     },
     "outputs": [],
     "prompt_number": 1
    },
    {
     "cell_type": "review",
     "metadata": {
      "zanadu": {
       "comment": {},
       "date": 1516894780941,
       "owner": "tbouz",
       "parent_id": "2EF1CA948E22459982B63AC67DD4371F"
      }
     },
     "source": "fghfghdfgsdfsdf"
    },
    {
     "cell_type": "code",
     "collapsed": false,
     "input": "import sys\nprint sys.path\nprint sys.meta_path",
     "language": "python",
     "metadata": {
      "zanadu": {
       "code_type": ""
      }
     },
     "outputs": [
      {
       "output_type": "stream",
       "stream": "stdout",
       "text": "['', '/opt/anaconda/lib/python27.zip', '/opt/anaconda/lib/python2.7', '/opt/anaconda/lib/python2.7/plat-linux2', '/opt/anaconda/lib/python2.7/lib-tk', '/opt/anaconda/lib/python2.7/lib-old', '/opt/anaconda/lib/python2.7/lib-dynload', '/opt/anaconda/lib/python2.7/site-packages', '/opt/anaconda/lib/python2.7/site-packages/PIL', '/opt/anaconda/lib/python2.7/site-packages/IPython/extensions']\n[<__main__.NotebookFinder object at 0x7fe457f44b90>]\n"
      }
     ],
     "prompt_number": 2
    },
    {
     "cell_type": "code",
     "collapsed": false,
     "input": "try:\n    f = open(\"%s/ex\"%user_dir,\"w\")\n    for i in range(10):\n        f.write(str(i)+\" \")\n    f.close()\nexcept IOError as e:\n    print e",
     "language": "python",
     "metadata": {
      "zanadu": {
       "id": "A8C1C07D18184A6D8F780F3611DFF44A"
      }
     },
     "outputs": [],
     "prompt_number": 3
    },
    {
     "cell_type": "code",
     "collapsed": false,
     "input": "os.listdir(\"/groups/ZANADU TEAM/tbouz/me/Root\")",
     "language": "python",
     "metadata": {
      "zanadu": {
       "id": "6EE8D96E235C42AF8297F1F20A4008BE"
      }
     },
     "outputs": [
      {
       "metadata": {},
       "output_type": "pyout",
       "prompt_number": 4,
       "text": "['ex', 'Report1.pdf', 'Report1.zip']"
      }
     ],
     "prompt_number": 4
    },
    {
     "cell_type": "code",
     "collapsed": false,
     "input": "",
     "language": "python",
     "metadata": {
      "zanadu": {
       "code_type": "",
       "id": "38166A2281754B658DFFA23386AF286F"
      }
     },
     "outputs": [],
     "prompt_number": 4
    },
    {
     "cell_type": "code",
     "collapsed": false,
     "input": "",
     "language": "python",
     "metadata": {
      "zanadu": {
       "code_type": "",
       "id": "7EB588AC030F4620B380E5888442A61A"
      }
     },
     "outputs": [],
     "prompt_number": 4
    },
    {
     "cell_type": "code",
     "collapsed": false,
     "input": "",
     "language": "python",
     "metadata": {
      "zanadu": {
       "code_type": "",
       "id": "91629A5B22BA4F708E1BCBB79B515ED8"
      }
     },
     "outputs": [],
     "prompt_number": 6
    }
   ],
   "metadata": {}
  }
 ]
}